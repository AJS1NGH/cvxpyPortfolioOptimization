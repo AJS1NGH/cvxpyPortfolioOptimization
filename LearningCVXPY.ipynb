{
 "cells": [
  {
   "cell_type": "code",
   "execution_count": 2,
   "metadata": {},
   "outputs": [],
   "source": [
    "import cvxpy as cvx\n",
    "import numpy as np"
   ]
  },
  {
   "cell_type": "code",
   "execution_count": 5,
   "metadata": {},
   "outputs": [
    {
     "name": "stdout",
     "output_type": "stream",
     "text": [
      "optimal value for x:1.399919957976194e-29\n",
      "optimal value for objective function: 2.0\n"
     ]
    }
   ],
   "source": [
    "x = cvx.Variable(1)\n",
    "objective = cvx.Minimize((x-1)**2 +1)\n",
    "constraints = [x<=0]\n",
    "problem = cvx.Problem(objective,constraints)\n",
    "result = problem.solve()#returns min value for objective function\n",
    "print(\"optimal value for x:{}\".format(x.value[0]))\n",
    "print(\"optimal value for objective function: {}\".format(result))"
   ]
  }
 ],
 "metadata": {
  "kernelspec": {
   "display_name": "Python 3",
   "language": "python",
   "name": "python3"
  },
  "language_info": {
   "codemirror_mode": {
    "name": "ipython",
    "version": 3
   },
   "file_extension": ".py",
   "mimetype": "text/x-python",
   "name": "python",
   "nbconvert_exporter": "python",
   "pygments_lexer": "ipython3",
   "version": "3.7.1"
  }
 },
 "nbformat": 4,
 "nbformat_minor": 2
}
