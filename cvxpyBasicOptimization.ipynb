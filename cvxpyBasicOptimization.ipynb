{
 "cells": [
  {
   "cell_type": "markdown",
   "metadata": {},
   "source": [
    "# Portfolio Optimization using cvxpy"
   ]
  },
  {
   "cell_type": "code",
   "execution_count": 2,
   "metadata": {},
   "outputs": [],
   "source": [
    "import cvxpy as cvx\n",
    "import numpy as np"
   ]
  },
  {
   "cell_type": "markdown",
   "metadata": {},
   "source": [
    "standard deviation $\\sigma_A = \\sqrt(\\sigma^2_A)$, where $\\sigma^2_A$ is variance of $x_A$\n",
    "\n",
    "correlation between the stocks is $\\rho_{A,B}$\n",
    "\n",
    "covariance between the stocks is $\\sigma_{A,B} = \\sigma_A \\times \\sigma_B \\times \\rho_{A,B}$\n",
    "\n",
    "need a vector of 2 x variables $\\mathbf{x} = \\begin{bmatrix}\n",
    "x_A & x_B\n",
    "\\end{bmatrix}\n",
    "$\n",
    "\n",
    " covariance matrix $P = \n",
    "\\begin{bmatrix}\n",
    "\\sigma^2_A & \\sigma_{A,B} \\\\ \n",
    "\\sigma_{A,B} & \\sigma^2_B \n",
    "\\end{bmatrix}$\n",
    "\n",
    "portfolio variance $\\sigma^2_p = \\mathbf{x^T} \\mathbf{P} \\mathbf{x}$\n",
    "\n",
    "quadratic form: $\\mathbf{x^T} \\mathbf{P} \\mathbf{x}$\n",
    "\n",
    "Will use `quad_form(x,P)` to get the quadratic form.\n",
    "\n",
    "We want to minimize the portfolio variance, which is $\\mathbf{x^T} \\mathbf{P} \\mathbf{x}$\n",
    "\n",
    "We can find the objective function using cvxpy `objective = cvx.Minimize()`.
    "\n",
    "Constrains are all weights must sum to 1.\n",
    "\n",
    "We are solving for the values of $\\mathbf{x}$.\n",
    "cvxpy has the constructor `Problem(objective, constraints)`, which returns a `Problem` object.\n",
    "\n",
    "The `Problem` object has a function solve(), which returns the minimum of the solution.  In this case, this is the minimum variance of the portfolio.\n",
    "\n",
    "It also updates the vector $\\mathbf{x}$.\n",
    "\n",
    "We can get values of $x_A$ and $x_B$ that gave the minimum portfolio variance by using `x.value`"
   ]
  },
  {
   "cell_type": "code",
   "execution_count": 5,
   "metadata": {},
   "outputs": [],
   "source": [
    "import cvxpy as cvx\n",
    "import numpy as np\n",
    "\n",
    "def optimizePortfolio2(varA, varB, rAB):\n",
    "    \"\"\"Returns vector of optimal weights\n",
    "    Inputs:\n",
    "           varA : float, var(A)\n",
    "           varB : float, var(B)    \n",
    "           rAB  : float,  correlation_coeff(A,B).\n",
    "        \n",
    "    Output:\n",
    "           optimized weights xA and xB\n",
    "    \n",
    "    \"\"\"\n",
    "    # portfolio that minimizes portfolio variance.\n",
    "\n",
    "    cov = np.sqrt(varA)*np.sqrt(varB)*rAB\n",
    "    x = cvx.Variable(2)#solving for xA and xB hence size 2... cvx variables can be vectors\n",
    "    P = np.array([[varA,cov],[cov,varB]]) #covariance matrix\n",
    "    objective = cvx.Minimize(cvx.quad_form(x,P)) #create quad form (x^T)P(x) matrix mult    \n",
    "    constraints = [sum(x)==1] #creating list of constraints\n",
    "    problem = cvx.Problem(objective,constraints) #define problem to optimize\n",
    "    min_value = problem.solve()#solve, returns min value of portfolio variance\n",
    "    xA,xB = x.value#returns optimized values of asset weights\n",
    "    \n",
    "    return xA,xB"
   ]
  },
  {
   "cell_type": "code",
   "execution_count": 6,
   "metadata": {},
   "outputs": [
    {
     "name": "stdout",
     "output_type": "stream",
     "text": [
      "Weight on Stock A: 0.281935\n",
      "Weight on Stock B: 0.718065\n"
     ]
    }
   ],
   "source": [
    "xA,xB = optimizePortfolio2(0.1, 0.05, 0.25)\n",
    "print(\"Weight on Stock A: {:.6f}\".format(xA))\n",
    "print(\"Weight on Stock B: {:.6f}\".format(xB))"
   ]
  }
 ],
 "metadata": {
  "kernelspec": {
   "display_name": "Python 3",
   "language": "python",
   "name": "python3"
  },
  "language_info": {
   "codemirror_mode": {
    "name": "ipython",
    "version": 3
   },
   "file_extension": ".py",
   "mimetype": "text/x-python",
   "name": "python",
   "nbconvert_exporter": "python",
   "pygments_lexer": "ipython3",
   "version": "3.7.1"
  }
 },
 "nbformat": 4,
 "nbformat_minor": 2
}
