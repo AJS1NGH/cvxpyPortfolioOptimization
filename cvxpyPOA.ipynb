{
 "cells": [
  {
   "cell_type": "markdown",
   "metadata": {},
   "source": [
    " # Portfolio Optimization using cvxpy\n",
    " # Minimize portfolio variance and track index"
   ]
  },
  {
   "cell_type": "code",
   "execution_count": 3,
   "metadata": {},
   "outputs": [],
   "source": [
    "import cvxpy as cvx\n",
    "import numpy as np"
   ]
  },
  {
   "cell_type": "markdown",
   "metadata": {},
   "source": [
    "$  Minimize \\left [ \\sigma^2_p + \\lambda \\sqrt{\\sum_{1}^{m}(weight_i - indexWeight_i)^2} \\right  ]$ \n"
   ]
  },
  {
   "cell_type": "markdown",
   "metadata": {},
   "source": [
    "$\\mathbf{x} = \\begin{bmatrix}\n",
    "x_1 &...& x_M\n",
    "\\end{bmatrix}\n",
    "$\n",
    "\n",
    "covariance matrix $\\mathbf{P} = \n",
    "\\begin{bmatrix}\n",
    "\\sigma^2_{1,1} & ... & \\sigma^2_{1,m} \\\\ \n",
    "... & ... & ...\\\\\n",
    "\\sigma_{m,1} & ... & \\sigma^2_{m,m}  \\\\\n",
    "\\end{bmatrix}$"
   ]
  },
  {
   "cell_type": "markdown",
   "metadata": {},
   "source": [
    "\n",
    "portfolio variance $\\sigma^2_p = \\mathbf{x^T} \\mathbf{P} \\mathbf{x}$\n",
    "\n",
    "We want to minimize the distance between index weights and our weights(index is weighted).\n",
    " I will use L2 norm as distance calculation: $\\sqrt{\\sum_{1}^{n}(weight_i - indexWeight_i)^2}$  = $\\left \\| \\mathbf{x} - \\mathbf{index} \\right \\|_2$.  \n",
    "cvxpy has a function called [norm()] which I will use to declare the L2 norm.\n",
    "\n",
    "### constraints\n",
    "[x >= 0, sum(x) == 1], no shorting. long only."
   ]
  },
  {
   "cell_type": "code",
   "execution_count": 4,
   "metadata": {},
   "outputs": [],
   "source": [
    "import cvxpy as cvx\n",
    "import numpy as np\n",
    "\n",
    "def optimize_portfolio(returns, index_weights, scale=.00001):\n",
    "    \"\"\"   \n",
    "    Input\n",
    "    ----------\n",
    "    returns : numpy.ndarray where each row is stock series(2D).\n",
    "        \n",
    "    index_weights : numpy.ndarray containing weights of the index(1D).\n",
    "        \n",
    "    scale : float, lambda aka scaling factor\n",
    "    \n",
    "    Output:\n",
    "    -------\n",
    "    array of optimal weights\n",
    "    \"\"\"\n",
    "    # number of stocks m is number of rows of returns, and also number of index weights\n",
    "    m = len(returns) \n",
    "    #covar mat of returns\n",
    "    cov = np.cov(returns) \n",
    "    # x var\n",
    "    x =  cvx.Variable(m)\n",
    "    #portfolio variance\n",
    "    portfolio_variance = cvx.quad_form(x,cov)\n",
    "    # L2 norm between portfolio and index weights\n",
    "    distance_to_index = cvx.norm(x-index_weights,2)#L2 norm\n",
    "    #constraints\n",
    "    constraints = [sum(x)==1,x>=0] \n",
    "    #objective\n",
    "    obj = portfolio_variance + scale*distance_to_index\n",
    "    objective = cvx.Minimize(obj) \n",
    "    problem = cvx.Problem(objective,constraints)\n",
    "    minv = problem.solve()\n",
    "    \n",
    "    x_values = x.value\n",
    "    \n",
    "    return x_values\n",
    "\n"
   ]
  },
  {
   "cell_type": "code",
   "execution_count": 7,
   "metadata": {},
   "outputs": [
    {
     "name": "stdout",
     "output_type": "stream",
     "text": [
      "optimized weights: [0.86666278 0.11658134 0.01675587]\n"
     ]
    }
   ],
   "source": [
    "days_per_year = 252\n",
    "years = 10\n",
    "total_days = days_per_year * years\n",
    "\n",
    "return_market = np.random.normal(loc=0.05, scale=0.3, size=days_per_year)\n",
    "return_1 = np.random.uniform(low=-0.000001, high=.000001, size=days_per_year) + return_market\n",
    "return_2 = np.random.uniform(low=-0.000001, high=.000001, size=days_per_year) + return_market\n",
    "return_3 = np.random.uniform(low=-0.000001, high=.000001, size=days_per_year) + return_market\n",
    "returns = np.array([return_1, return_2, return_3])\n",
    "\n",
    "index_weights = np.array([0.9,0.15,0.05])\n",
    "x_values = optimize_portfolio(returns, index_weights, scale=.00001)\n",
    "\n",
    "print(\"optimized weights: {}\".format(x_values))"
   ]
  }
 ],
 "metadata": {
  "kernelspec": {
   "display_name": "Python 3",
   "language": "python",
   "name": "python3"
  },
  "language_info": {
   "codemirror_mode": {
    "name": "ipython",
    "version": 3
   },
   "file_extension": ".py",
   "mimetype": "text/x-python",
   "name": "python",
   "nbconvert_exporter": "python",
   "pygments_lexer": "ipython3",
   "version": "3.7.1"
  }
 },
 "nbformat": 4,
 "nbformat_minor": 2
}
